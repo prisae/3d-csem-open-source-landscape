{
 "cells": [
  {
   "cell_type": "markdown",
   "metadata": {},
   "source": [
    "# Compute layered background of «BlockModel» semi-analytically\n",
    "\n",
    "For this we use the semi-analytical code `empymod`."
   ]
  },
  {
   "cell_type": "code",
   "execution_count": 1,
   "metadata": {
    "nbpresent": {
     "id": "4cf9c8a2-cf5f-45cd-b5da-0b1c7fe23108"
    }
   },
   "outputs": [],
   "source": [
    "import empymod\n",
    "import numpy as np\n",
    "import xarray as xr\n",
    "from datetime import datetime\n",
    "import matplotlib.pyplot as plt\n",
    "%load_ext memory_profiler"
   ]
  },
  {
   "cell_type": "code",
   "execution_count": 2,
   "metadata": {},
   "outputs": [],
   "source": [
    "plt.style.use('ggplot')"
   ]
  },
  {
   "cell_type": "markdown",
   "metadata": {},
   "source": [
    "## Load model and survey"
   ]
  },
  {
   "cell_type": "code",
   "execution_count": 3,
   "metadata": {},
   "outputs": [],
   "source": [
    "ds = xr.load_dataset('../block_model_and_survey.nc', engine='h5netcdf')"
   ]
  },
  {
   "cell_type": "markdown",
   "metadata": {},
   "source": [
    "### Extract required info"
   ]
  },
  {
   "cell_type": "code",
   "execution_count": 4,
   "metadata": {},
   "outputs": [],
   "source": [
    "# Model\n",
    "res_h = ds.attrs['res1d']\n",
    "aniso = ds.attrs['aniso']\n",
    "depth = ds.attrs['depth']\n",
    "\n",
    "# Survey\n",
    "src = ds.attrs['src']\n",
    "strength = ds.attrs['strength']\n",
    "freq = ds.attrs['freq']\n",
    "rec_x = ds.x.data[::2]\n",
    "rec_y = ds.attrs['rec_y']\n",
    "rec_z = ds.attrs['rec_z']"
   ]
  },
  {
   "cell_type": "markdown",
   "metadata": {},
   "source": [
    "## Compute the responses"
   ]
  },
  {
   "cell_type": "code",
   "execution_count": 5,
   "metadata": {},
   "outputs": [
    {
     "name": "stdout",
     "output_type": "stream",
     "text": [
      "\n",
      ":: empymod START  ::  v2.0.4\n",
      "\n",
      "   depth       [m] :  -3150 -850 -600 0\n",
      "   res     [Ohm.m] :  1000 2 1 0.3 1E+08\n",
      "   aniso       [-] :  1 1.41421 1 1 1\n",
      "   epermH      [-] :  1 1 1 1 1\n",
      "   epermV      [-] :  1 1 1 1 1\n",
      "   mpermH      [-] :  1 1 1 1 1\n",
      "   mpermV      [-] :  1 1 1 1 1\n",
      "   direct field    :  Comp. in wavenumber domain\n",
      "   frequency  [Hz] :  1\n",
      "   Hankel          :  DLF (Fast Hankel Transform)\n",
      "     > Filter      :  Key 201 (2009)\n",
      "     > DLF type    :  Lagged Convolution\n",
      "   Loop over       :  Frequencies\n",
      "   Source(s)       :  1 bipole(s)\n",
      "     > intpts      :  5\n",
      "     > length  [m] :  200\n",
      "     > strength[A] :  800\n",
      "     > x_c     [m] :  0\n",
      "     > y_c     [m] :  0\n",
      "     > z_c     [m] :  -550\n",
      "     > azimuth [°] :  0\n",
      "     > dip     [°] :  0\n",
      "   Receiver(s)     :  303 dipole(s)\n",
      "     > x       [m] :  -10000 - 10000 : 303  [min-max; #]\n",
      "     > y       [m] :  -3000 - 3000 : 303  [min-max; #]\n",
      "     > z       [m] :  -600\n",
      "     > azimuth [°] :  0\n",
      "     > dip     [°] :  0\n",
      "   Required ab's   :  11\n",
      "* WARNING :: Offsets < 0.001 m are set to 0.001 m!\n",
      "\n",
      ":: empymod END; runtime = 0:00:00.190403 :: 5 kernel call(s)\n",
      "\n"
     ]
    }
   ],
   "source": [
    "rec_X, rec_Y = np.meshgrid(rec_x, rec_y)\n",
    "\n",
    "inp = {'src': [*src],\n",
    "       'rec': [rec_X.ravel(), rec_Y.ravel(), rec_z, 0, 0],\n",
    "       'depth': depth,\n",
    "       'res': res_h,\n",
    "       'freqtime': freq,\n",
    "       'aniso': aniso,\n",
    "       'srcpts': 5,\n",
    "       'strength': strength,\n",
    "       'verb': 3,\n",
    "       'htarg': {'pts_per_dec': -1},\n",
    "}\n",
    "\n",
    "epm_1d = empymod.bipole(**inp).reshape(rec_x.size, rec_y.size, order='F')"
   ]
  },
  {
   "cell_type": "markdown",
   "metadata": {},
   "source": [
    "### Get CPU and RAM"
   ]
  },
  {
   "cell_type": "code",
   "execution_count": 6,
   "metadata": {},
   "outputs": [
    {
     "name": "stdout",
     "output_type": "stream",
     "text": [
      "13.9 ms ± 1.47 ms per loop (mean ± std. dev. of 7 runs, 100 loops each)\n",
      "peak memory: 234.45 MiB, increment: 4.45 MiB\n",
      "0 s\n",
      "0.004 GiB\n"
     ]
    }
   ],
   "source": [
    "inp['verb'] = 0\n",
    "\n",
    "time = %timeit -o empymod.bipole(**inp)\n",
    "cpu = f\"{time.average:.0f} s\"\n",
    "\n",
    "memory = %memit -o empymod.bipole(**inp)\n",
    "ram = f\"{(memory.mem_usage[0] - memory.baseline)/1024:.3f} GiB\"\n",
    "\n",
    "print(f\"{cpu}\\n{ram}\")"
   ]
  },
  {
   "cell_type": "markdown",
   "metadata": {},
   "source": [
    "## Plot result"
   ]
  },
  {
   "cell_type": "code",
   "execution_count": 7,
   "metadata": {
    "scrolled": false
   },
   "outputs": [
    {
     "data": {
      "image/png": "[encoded data removed]",
      "text/plain": [
       "<Figure size 648x360 with 2 Axes>"
      ]
     },
     "metadata": {},
     "output_type": "display_data"
    }
   ],
   "source": [
    "fig, axs = plt.subplots(figsize=(9, 5), ncols=2, sharex=True, sharey=True)\n",
    "\n",
    "# Real part\n",
    "axs[0].set_title(r'$\\Re(E_x)$')\n",
    "for i, y in enumerate(rec_y[:2]):\n",
    "    axs[0].plot(rec_x/1e3, epm_1d[:, i].real, f'C{i}-', label=f'y = {y/1e3: .1f} km')\n",
    "    axs[0].plot(rec_x/1e3, -epm_1d[:, i].real, f'C{i}--')\n",
    "    \n",
    "axs[0].legend()\n",
    "axs[0].set_xlabel('Offset (km)')\n",
    "axs[0].set_ylabel('Amplitude (V/m)')\n",
    "\n",
    "# Imaginary part\n",
    "axs[1].set_title(r'$\\Im(E_x)$')\n",
    "for i, y in enumerate(rec_y[:2]):\n",
    "    axs[1].plot(rec_x/1e3, epm_1d[:, i].imag, f'C{i}-', label=f'y = {y/1e3: .1f} km')\n",
    "    axs[1].plot(rec_x/1e3, -epm_1d[:, i].imag, f'C{i}--')\n",
    "\n",
    "axs[1].legend()\n",
    "axs[1].set_xlabel('Offset (km)')\n",
    "axs[1].set_ylabel('Amplitude (V/m)')\n",
    "\n",
    "axs[1].yaxis.set_ticks_position('right')\n",
    "axs[1].yaxis.set_label_position('right')\n",
    "\n",
    "# As axes are synced, these apply to both:\n",
    "axs[0].set_yscale('log')\n",
    "axs[0].set_ylim([2e-11, 3e-3])\n",
    "\n",
    "fig.tight_layout()"
   ]
  },
  {
   "cell_type": "markdown",
   "metadata": {},
   "source": [
    "## Save `empymod`-data"
   ]
  },
  {
   "cell_type": "code",
   "execution_count": 8,
   "metadata": {},
   "outputs": [],
   "source": [
    "ds.line_1.data = np.vstack([epm_1d[:, 0].real, epm_1d[:, 0].imag]).ravel('F')\n",
    "ds.line_2.data = np.vstack([epm_1d[:, 1].real, epm_1d[:, 1].imag]).ravel('F')\n",
    "ds.line_3.data = np.vstack([epm_1d[:, 2].real, epm_1d[:, 2].imag]).ravel('F')\n",
    "\n",
    "# Add meta data\n",
    "ds.attrs['runtime'] = cpu\n",
    "ds.attrs['n_procs'] = '1'\n",
    "ds.attrs['max_ram'] = ram\n",
    "ds.attrs['n_cells'] = 'N/A'\n",
    "ds.attrs['n_nodes'] = 'N/A'\n",
    "ds.attrs['n_dof'] = 'N/A'\n",
    "ds.attrs['extent'] = 'N/A'\n",
    "ds.attrs['min_vol'] = 'N/A'\n",
    "ds.attrs['max_vol'] = 'N/A'\n",
    "ds.attrs['machine'] = \"Laptop; i7-6600U CPU@2.6 GHz x4; 15.5 GiB of memory, Ubuntu 20.04\"\n",
    "ds.attrs['version'] = f\"empymod v{empymod.__version__}\"\n",
    "ds.attrs['date'] = datetime.today().isoformat()\n",
    "\n",
    "# Save it under <{model}_{code}.nc>\n",
    "ds.to_netcdf(f'../results/layered_empymod.nc', engine='h5netcdf')"
   ]
  },
  {
   "cell_type": "code",
   "execution_count": 9,
   "metadata": {},
   "outputs": [
    {
     "data": {
      "text/html": [
       "<table style='border: 3px solid #ddd;'>\n",
       "  <tr>\n",
       "     <td style='text-align: center; font-weight: bold; font-size: 1.2em; border: 2px solid #fff;' colspan='6'>Thu Jan 28 09:18:13 2021 CET</td>\n",
       "  </tr>\n",
       "  <tr>\n",
       "    <td style='text-align: right; background-color: #ccc; border: 2px solid #fff;'>OS</td>\n",
       "    <td style='text-align: left; border: 2px solid #fff;'>Linux</td>\n",
       "    <td style='text-align: right; background-color: #ccc; border: 2px solid #fff;'>CPU(s)</td>\n",
       "    <td style='text-align: left; border: 2px solid #fff;'>4</td>\n",
       "    <td style='text-align: right; background-color: #ccc; border: 2px solid #fff;'>Machine</td>\n",
       "    <td style='text-align: left; border: 2px solid #fff;'>x86_64</td>\n",
       "  </tr>\n",
       "  <tr>\n",
       "    <td style='text-align: right; background-color: #ccc; border: 2px solid #fff;'>Architecture</td>\n",
       "    <td style='text-align: left; border: 2px solid #fff;'>64bit</td>\n",
       "    <td style='text-align: right; background-color: #ccc; border: 2px solid #fff;'>RAM</td>\n",
       "    <td style='text-align: left; border: 2px solid #fff;'>15.5 GB</td>\n",
       "    <td style='text-align: right; background-color: #ccc; border: 2px solid #fff;'>Environment</td>\n",
       "    <td style='text-align: left; border: 2px solid #fff;'>Jupyter</td>\n",
       "  </tr>\n",
       "  <tr>\n",
       "     <td style='text-align: center; border: 2px solid #fff;' colspan='6'>Python 3.8.0 | packaged by conda-forge | (default, Nov 22 2019, 19:11:38) \n",
       "[GCC 7.3.0]</td>\n",
       "  </tr>\n",
       "  <tr>\n",
       "    <td style='text-align: right; background-color: #ccc; border: 2px solid #fff;'>xarray</td>\n",
       "    <td style='text-align: left; border: 2px solid #fff;'>0.16.2</td>\n",
       "    <td style='text-align: right; background-color: #ccc; border: 2px solid #fff;'>numpy</td>\n",
       "    <td style='text-align: left; border: 2px solid #fff;'>1.19.5</td>\n",
       "    <td style='text-align: right; background-color: #ccc; border: 2px solid #fff;'>scipy</td>\n",
       "    <td style='text-align: left; border: 2px solid #fff;'>1.6.0</td>\n",
       "  </tr>\n",
       "  <tr>\n",
       "    <td style='text-align: right; background-color: #ccc; border: 2px solid #fff;'>numba</td>\n",
       "    <td style='text-align: left; border: 2px solid #fff;'>0.52.0</td>\n",
       "    <td style='text-align: right; background-color: #ccc; border: 2px solid #fff;'>empymod</td>\n",
       "    <td style='text-align: left; border: 2px solid #fff;'>2.0.4</td>\n",
       "    <td style='text-align: right; background-color: #ccc; border: 2px solid #fff;'>IPython</td>\n",
       "    <td style='text-align: left; border: 2px solid #fff;'>7.19.0</td>\n",
       "  </tr>\n",
       "  <tr>\n",
       "    <td style='text-align: right; background-color: #ccc; border: 2px solid #fff;'>matplotlib</td>\n",
       "    <td style='text-align: left; border: 2px solid #fff;'>3.3.3</td>\n",
       "    <td style= border: 2px solid #fff;'></td>\n",
       "    <td style= border: 2px solid #fff;'></td>\n",
       "    <td style= border: 2px solid #fff;'></td>\n",
       "    <td style= border: 2px solid #fff;'></td>\n",
       "  </tr>\n",
       "  <tr>\n",
       "     <td style='text-align: center; background-color: #ddd;border: 2px solid #fff;' colspan='6'>Intel(R) Math Kernel Library Version 2020.0.4 Product Build 20200917 for Intel(R) 64 architecture applications</td>\n",
       "  </tr>\n",
       "</table>"
      ],
      "text/plain": [
       "\n",
       "--------------------------------------------------------------------------------\n",
       "  Date: Thu Jan 28 09:18:13 2021 CET\n",
       "\n",
       "                OS : Linux\n",
       "            CPU(s) : 4\n",
       "           Machine : x86_64\n",
       "      Architecture : 64bit\n",
       "               RAM : 15.5 GB\n",
       "       Environment : Jupyter\n",
       "\n",
       "  Python 3.8.0 | packaged by conda-forge | (default, Nov 22 2019, 19:11:38)\n",
       "  [GCC 7.3.0]\n",
       "\n",
       "            xarray : 0.16.2\n",
       "             numpy : 1.19.5\n",
       "             scipy : 1.6.0\n",
       "             numba : 0.52.0\n",
       "           empymod : 2.0.4\n",
       "           IPython : 7.19.0\n",
       "        matplotlib : 3.3.3\n",
       "\n",
       "  Intel(R) Math Kernel Library Version 2020.0.4 Product Build 20200917 for\n",
       "  Intel(R) 64 architecture applications\n",
       "--------------------------------------------------------------------------------"
      ]
     },
     "execution_count": 9,
     "metadata": {},
     "output_type": "execute_result"
    }
   ],
   "source": [
    "empymod.Report(xr)"
   ]
  }
 ],
 "metadata": {
  "anaconda-cloud": {},
  "kernelspec": {
   "display_name": "Python 3",
   "language": "python",
   "name": "python3"
  },
  "language_info": {
   "codemirror_mode": {
    "name": "ipython",
    "version": 3
   },
   "file_extension": ".py",
   "mimetype": "text/x-python",
   "name": "python",
   "nbconvert_exporter": "python",
   "pygments_lexer": "ipython3",
   "version": "3.8.0"
  },
  "nbpresent": {
   "slides": {
    "2a1825bf-35ff-4370-b129-ba51addc5c69": {
     "id": "2a1825bf-35ff-4370-b129-ba51addc5c69",
     "prev": "3d6a47d5-4fff-46fe-b063-1afce739efbb",
     "regions": {
      "c651f707-58e0-4b88-b861-0c6608fca1d5": {
       "attrs": {
        "height": 0.8,
        "width": 0.8,
        "x": 0.1,
        "y": 0.1
       },
       "content": {
        "cell": "6900d774-2898-4efd-9798-78bc8f08d0da",
        "part": "whole"
       },
       "id": "c651f707-58e0-4b88-b861-0c6608fca1d5"
      }
     }
    },
    "3d6a47d5-4fff-46fe-b063-1afce739efbb": {
     "id": "3d6a47d5-4fff-46fe-b063-1afce739efbb",
     "prev": "aa9c2bcf-e54f-4714-946e-18921616a039",
     "regions": {
      "e461f359-4831-4693-84fe-480f6c1db14a": {
       "attrs": {
        "height": 0.8,
        "width": 0.8,
        "x": 0.1,
        "y": 0.1
       },
       "content": {
        "cell": "1a31a0e1-bcf6-452d-aabb-c48c94a9e85d",
        "part": "whole"
       },
       "id": "e461f359-4831-4693-84fe-480f6c1db14a"
      }
     }
    },
    "54253e19-21cb-4738-94f0-109d6bbb2bde": {
     "id": "54253e19-21cb-4738-94f0-109d6bbb2bde",
     "prev": "5f5302d2-4747-4c5a-a6c3-1d0fc8f7fb66",
     "regions": {
      "1735c9df-b5c2-40d7-b562-b869e4b966cd": {
       "attrs": {
        "height": 0.8,
        "width": 0.8,
        "x": 0.1,
        "y": 0.1
       },
       "content": {
        "cell": "f85d2094-6d09-4627-a0ab-7cab37ed3c9f",
        "part": "whole"
       },
       "id": "1735c9df-b5c2-40d7-b562-b869e4b966cd"
      }
     }
    },
    "5f5302d2-4747-4c5a-a6c3-1d0fc8f7fb66": {
     "id": "5f5302d2-4747-4c5a-a6c3-1d0fc8f7fb66",
     "prev": "fc333044-619d-44bd-8c7f-0a53dd4b220a",
     "regions": {
      "41618366-0a77-4f2d-9d9b-77ed062d6959": {
       "attrs": {
        "height": 0.8,
        "width": 0.8,
        "x": 0.1,
        "y": 0.1
       },
       "content": {
        "cell": "83e23522-1665-45d6-8bc0-869b981a0e66",
        "part": "whole"
       },
       "id": "41618366-0a77-4f2d-9d9b-77ed062d6959"
      }
     }
    },
    "aa9c2bcf-e54f-4714-946e-18921616a039": {
     "id": "aa9c2bcf-e54f-4714-946e-18921616a039",
     "prev": "54253e19-21cb-4738-94f0-109d6bbb2bde",
     "regions": {
      "1b48f280-81c6-4746-8fff-091d4b10b448": {
       "attrs": {
        "height": 0.8,
        "width": 0.8,
        "x": 0.1,
        "y": 0.1
       },
       "content": {
        "cell": "0631a68b-7d4d-4326-abff-8628f2004afc",
        "part": "whole"
       },
       "id": "1b48f280-81c6-4746-8fff-091d4b10b448"
      }
     }
    },
    "b5a49768-441a-449c-bbf3-d2a7febf0235": {
     "id": "b5a49768-441a-449c-bbf3-d2a7febf0235",
     "prev": null,
     "regions": {
      "7ae15b0a-8675-4544-8708-f2e95dda286f": {
       "attrs": {
        "height": 0.8,
        "width": 0.8,
        "x": 0.1,
        "y": 0.1
       },
       "content": {
        "cell": "4cf9c8a2-cf5f-45cd-b5da-0b1c7fe23108",
        "part": "whole"
       },
       "id": "7ae15b0a-8675-4544-8708-f2e95dda286f"
      }
     }
    },
    "bc930404-89e7-4fc9-a1f9-e9edc1f4d1d4": {
     "id": "bc930404-89e7-4fc9-a1f9-e9edc1f4d1d4",
     "prev": "2a1825bf-35ff-4370-b129-ba51addc5c69",
     "regions": {
      "76296bab-9070-4528-b79c-558debc8f675": {
       "attrs": {
        "height": 0.8,
        "width": 0.8,
        "x": 0.1,
        "y": 0.1
       },
       "content": {
        "cell": "3ac01b43-1f53-4902-a857-5a0b0a6ef59b",
        "part": "whole"
       },
       "id": "76296bab-9070-4528-b79c-558debc8f675"
      }
     }
    },
    "fc333044-619d-44bd-8c7f-0a53dd4b220a": {
     "id": "fc333044-619d-44bd-8c7f-0a53dd4b220a",
     "prev": "b5a49768-441a-449c-bbf3-d2a7febf0235",
     "regions": {
      "fea6658a-c555-450d-b33b-0e44fe7b1cf8": {
       "attrs": {
        "height": 0.8,
        "width": 0.8,
        "x": 0.1,
        "y": 0.1
       },
       "content": {
        "cell": "d0a7e487-d7b9-418c-810f-f12d33c88c85",
        "part": "whole"
       },
       "id": "fea6658a-c555-450d-b33b-0e44fe7b1cf8"
      }
     }
    }
   },
   "themes": {}
  }
 },
 "nbformat": 4,
 "nbformat_minor": 1
}
