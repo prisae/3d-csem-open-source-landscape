{
 "cells": [
  {
   "cell_type": "markdown",
   "metadata": {},
   "source": [
    "# Layered Model using `emg3d`\n",
    "\n",
    "### Note regarding runtime\n",
    "\n",
    "The following environment variables were set before starting Jupyter:\n",
    "```\n",
    "export OMP_NUM_THREADS=1\n",
    "export MKL_NUM_THREADS=1\n",
    "export OPENBLAS_NUM_THREADS=1\n",
    "```\n",
    "This ensures that our code runs only on one thread. CPU-time is therefore the same as walltime (or even a tiny fraction smaller)."
   ]
  },
  {
   "cell_type": "code",
   "execution_count": 1,
   "metadata": {
    "nbpresent": {
     "id": "4cf9c8a2-cf5f-45cd-b5da-0b1c7fe23108"
    }
   },
   "outputs": [],
   "source": [
    "import emg3d\n",
    "import numpy as np\n",
    "import xarray as xr\n",
    "from datetime import datetime\n",
    "%load_ext memory_profiler"
   ]
  },
  {
   "cell_type": "markdown",
   "metadata": {},
   "source": [
    "## Load model and survey"
   ]
  },
  {
   "cell_type": "code",
   "execution_count": 2,
   "metadata": {},
   "outputs": [],
   "source": [
    "ds = xr.load_dataset('../block_model_and_survey.nc', engine='h5netcdf')"
   ]
  },
  {
   "cell_type": "markdown",
   "metadata": {},
   "source": [
    "### Extract required info"
   ]
  },
  {
   "cell_type": "code",
   "execution_count": 3,
   "metadata": {},
   "outputs": [],
   "source": [
    "# Get Mesh\n",
    "hx, hy, hz = ds.attrs['hx'], ds.attrs['hy'], ds.attrs['hz']\n",
    "x0 = ds.attrs['x0']\n",
    "mesh_model = emg3d.utils.TensorMesh([hx, hy, hz], x0=x0)\n",
    "\n",
    "# Get Layered Model\n",
    "resh, resv = ds.attrs['resh_bg'], ds.attrs['resv_bg']\n",
    "\n",
    "# Get Survey\n",
    "src = ds.attrs['src']\n",
    "strength = ds.attrs['strength']\n",
    "freq = ds.attrs['freq']\n",
    "rec_x = ds.x.data[::2]\n",
    "rec_y = ds.attrs['rec_y']\n",
    "rec_z = ds.attrs['rec_z']\n",
    "\n",
    "# Get source center (for meshing)\n",
    "src_c = np.mean(src.reshape(-1, 2), 1)"
   ]
  },
  {
   "cell_type": "markdown",
   "metadata": {},
   "source": [
    "## Computation mesh"
   ]
  },
  {
   "cell_type": "code",
   "execution_count": 4,
   "metadata": {},
   "outputs": [
    {
     "name": "stdout",
     "output_type": "stream",
     "text": [
      "   Skin depth (m/l-r)  [m] : 276 / 15916\n",
      "   Survey domain       [m] : -10050 - 10050\n",
      "   Calculation domain  [m] : -49950 - 50050\n",
      "   Final extent        [m] : -57088 - 65201\n",
      "   Min/max cell width  [m] : 100 / 100 / 8113\n",
      "   Alpha survey/calc       : 1.000 / 1.170\n",
      "   Number of cells (s/c/r) : 256 (201/52/3)\n",
      "\n",
      "   Skin depth (m/l-r)  [m] : 276 / 15916\n",
      "   Survey domain       [m] : -4000 - 4000\n",
      "   Calculation domain  [m] : -50000 - 50000\n",
      "   Final extent        [m] : -51968 - 51968\n",
      "   Min/max cell width  [m] : 200 / 200 / 14624\n",
      "   Alpha survey/calc       : 1.000 / 1.430\n",
      "   Number of cells (s/c/r) : 64 (40/24/0)\n",
      "\n",
      "   Skin depth (m/l/r)  [m] : 276 / 5033 / 15916\n",
      "   Survey domain       [m] : -3150 - 0\n",
      "   Calculation domain  [m] : -33198 - 50000\n",
      "   Final extent        [m] : -35515 - 65482\n",
      "   Min/max cell width  [m] : 50 / 50 / 19403\n",
      "   Alpha survey/calc       : 1.000 / 1.420\n",
      "   Number of cells (s/c/r) : 96 (64/32/0)\n",
      "\n"
     ]
    }
   ],
   "source": [
    "# Get cell widths and origin in each direction\n",
    "inp = {'freq': freq, 'max_domain': 50000}\n",
    "xx, x0 = emg3d.utils.get_hx_h0(res=[0.3, 1000], fixed=50, domain=[-10050, 10050], min_width=100, **inp)\n",
    "yy, y0 = emg3d.utils.get_hx_h0(res=[0.3, 1000], domain=[-4000, 4000], min_width=200, **inp)\n",
    "zz, z0 = emg3d.utils.get_hx_h0(res=[0.3, 100, 1000], domain=[-3150, 0], min_width=50, **inp)\n",
    "\n",
    "# Create a TensorMesh instance.\n",
    "mesh = emg3d.utils.TensorMesh([xx, yy, zz], x0=[x0, y0, z0])"
   ]
  },
  {
   "cell_type": "code",
   "execution_count": 5,
   "metadata": {},
   "outputs": [],
   "source": [
    "# Interpolate to new mesh\n",
    "cresh = emg3d.utils.grid2grid(mesh_model, resh, mesh, 'volume', log=True)\n",
    "cresv = emg3d.utils.grid2grid(mesh_model, resv, mesh, 'volume', log=True)\n",
    "\n",
    "# Create model instance\n",
    "model = emg3d.utils.Model(mesh, res_x=cresh, res_z=cresv)"
   ]
  },
  {
   "cell_type": "markdown",
   "metadata": {},
   "source": [
    "## `emg3d` computation"
   ]
  },
  {
   "cell_type": "code",
   "execution_count": 6,
   "metadata": {},
   "outputs": [],
   "source": [
    "# Source field\n",
    "sfield = emg3d.utils.get_source_field(mesh, src, freq, strength=strength)"
   ]
  },
  {
   "cell_type": "code",
   "execution_count": 7,
   "metadata": {},
   "outputs": [
    {
     "name": "stdout",
     "output_type": "stream",
     "text": [
      "\n",
      ":: emg3d START :: 14:27:38 :: v0.9.3\n",
      "\n",
      "   MG-cycle       : 'F'                 sslsolver : False\n",
      "   semicoarsening : False [0]           tol       : 1e-06\n",
      "   linerelaxation : True [5 6]          maxit     : 50\n",
      "   nu_{i,1,c,2}   : 0, 2, 1, 2          verb      : 3\n",
      "   Original grid  : 256 x  64 x  96     => 1,572,864 cells\n",
      "   Coarsest grid  :   2 x   2 x   3     => 12 cells\n",
      "   Coarsest level :   7 ;   5 ;   5   \n",
      "\n",
      "   [hh:mm:ss]  rel. error                  [abs. error, last/prev]   l s\n",
      "\n",
      "       h_\n",
      "      2h_ \\                                                      /\n",
      "      4h_  \\                                        /\\          / \n",
      "      8h_   \\                            /\\        /  \\        /  \n",
      "     16h_    \\                  /\\      /  \\      /    \\      /   \n",
      "     32h_     \\          /\\    /  \\    /    \\    /      \\    /    \n",
      "     64h_      \\    /\\  /  \\  /    \\  /      \\  /        \\  /     \n",
      "    128h_       \\/\\/  \\/    \\/      \\/        \\/          \\/      \n",
      "\n",
      "   [14:28:00]   3.753e-03  after   1 F-cycles   [2.903e-03, 0.004]   5 0\n",
      "   [14:28:17]   5.935e-04  after   2 F-cycles   [4.592e-04, 0.158]   6 0\n",
      "   [14:28:37]   3.050e-05  after   3 F-cycles   [2.360e-05, 0.051]   5 0\n",
      "   [14:28:54]   9.192e-06  after   4 F-cycles   [7.111e-06, 0.301]   6 0\n",
      "   [14:29:19]   1.724e-06  after   5 F-cycles   [1.334e-06, 0.188]   5 0\n",
      "   [14:29:39]   1.589e-06  after   6 F-cycles   [1.229e-06, 0.922]   6 0\n",
      "   [14:29:58]   9.719e-07  after   7 F-cycles   [7.519e-07, 0.612]   5 0\n",
      "\n",
      "   > CONVERGED\n",
      "   > MG cycles        : 7\n",
      "   > Final rel. error : 9.719e-07\n",
      "\n",
      ":: emg3d END   :: 14:29:58 :: runtime = 0:02:20\n",
      "\n",
      "peak memory: 677.84 MiB, increment: 349.43 MiB\n",
      "memory usage: 349 MiB\n"
     ]
    }
   ],
   "source": [
    "mem = %memit -o efield, info = emg3d.solve(mesh, model, sfield, linerelaxation=56, verb=3, return_info=True)\n",
    "time = f\"{info['time']:.0f} s\"\n",
    "ram = f\"{mem.mem_usage[0] - mem.baseline:.0f} MiB\"\n",
    "print(f\"memory usage: {ram}\")"
   ]
  },
  {
   "cell_type": "code",
   "execution_count": 8,
   "metadata": {},
   "outputs": [],
   "source": [
    "# Extract (interpolate) Ex-field at receiver locations from the emg3d result.\n",
    "egd = np.zeros((rec_x.size, 3), dtype=complex)\n",
    "for i, y in enumerate(rec_y):\n",
    "    egd[:, i] = emg3d.utils.get_receiver(mesh, efield.fx, (rec_x, y, rec_z))"
   ]
  },
  {
   "cell_type": "markdown",
   "metadata": {},
   "source": [
    "## Save data"
   ]
  },
  {
   "cell_type": "code",
   "execution_count": 9,
   "metadata": {},
   "outputs": [],
   "source": [
    "# Save the three lines\n",
    "ds.line_1.data = np.vstack([egd[:, 0].real, egd[:, 0].imag]).ravel('F')\n",
    "ds.line_2.data = np.vstack([egd[:, 1].real, egd[:, 1].imag]).ravel('F')\n",
    "ds.line_3.data = np.vstack([egd[:, 2].real, egd[:, 2].imag]).ravel('F')\n",
    "\n",
    "# Add info\n",
    "ds.attrs['runtime'] = time\n",
    "ds.attrs['n_procs'] = 1\n",
    "ds.attrs['max_ram'] = ram\n",
    "ds.attrs['n_cells'] = f\"({mesh.nCx} x {mesh.nCy} x {mesh.nCz}) - {mesh.nC}\"\n",
    "ds.attrs['n_nodes'] = 'N/A'\n",
    "ds.attrs['n_dof'] = 'N/A'\n",
    "ds.attrs['extent'] = (f\"x = {mesh.vectorNx[0]:.1f}-{mesh.vectorNx[-1]:.1f}; \" # Total mesh extent\n",
    "                      f\"y = {mesh.vectorNy[0]:.1f}-{mesh.vectorNy[-1]:.1f}; \"\n",
    "                      f\"z = {mesh.vectorNz[0]:.1f}-{mesh.vectorNz[-1]:.1f}\")\n",
    "ds.attrs['min_vol'] = f\"{np.min(mesh.vol):.1f}\"\n",
    "ds.attrs['max_vol'] = f\"{np.max(mesh.vol):.1f}\"\n",
    "ds.attrs['machine'] = \"Laptop; i7-6600U CPU@2.6 GHz x4; 16 GB of memory, Ubuntu 18.04\"\n",
    "ds.attrs['version'] = f\"emg3d v{emg3d.__version__}\"\n",
    "ds.attrs['date'] = datetime.today().isoformat()\n",
    "\n",
    "# Save it under <{model}_{code}.nc>\n",
    "ds.to_netcdf(f\"../results/layered_emg3d.nc\", engine='h5netcdf')"
   ]
  },
  {
   "cell_type": "code",
   "execution_count": 10,
   "metadata": {},
   "outputs": [
    {
     "data": {
      "text/html": [
       "<table style='border: 3px solid #ddd;'>\n",
       "  <tr>\n",
       "     <td style='text-align: center; font-weight: bold; font-size: 1.2em; border: 2px solid #fff;' colspan='6'>Wed Apr 01 14:29:59 2020 CEST</td>\n",
       "  </tr>\n",
       "  <tr>\n",
       "    <td style='text-align: right; background-color: #ccc; border: 2px solid #fff;'>OS</td>\n",
       "    <td style='text-align: left; border: 2px solid #fff;'>Linux</td>\n",
       "    <td style='text-align: right; background-color: #ccc; border: 2px solid #fff;'>CPU(s)</td>\n",
       "    <td style='text-align: left; border: 2px solid #fff;'>4</td>\n",
       "    <td style='text-align: right; background-color: #ccc; border: 2px solid #fff;'>Machine</td>\n",
       "    <td style='text-align: left; border: 2px solid #fff;'>x86_64</td>\n",
       "  </tr>\n",
       "  <tr>\n",
       "    <td style='text-align: right; background-color: #ccc; border: 2px solid #fff;'>Architecture</td>\n",
       "    <td style='text-align: left; border: 2px solid #fff;'>64bit</td>\n",
       "    <td style='text-align: right; background-color: #ccc; border: 2px solid #fff;'>RAM</td>\n",
       "    <td style='text-align: left; border: 2px solid #fff;'>15.5 GB</td>\n",
       "    <td style='text-align: right; background-color: #ccc; border: 2px solid #fff;'>Environment</td>\n",
       "    <td style='text-align: left; border: 2px solid #fff;'>Jupyter</td>\n",
       "  </tr>\n",
       "  <tr>\n",
       "     <td style='text-align: center; border: 2px solid #fff;' colspan='6'>Python 3.7.6 (default, Jan  8 2020, 19:59:22) \n",
       "[GCC 7.3.0]</td>\n",
       "  </tr>\n",
       "  <tr>\n",
       "    <td style='text-align: right; background-color: #ccc; border: 2px solid #fff;'>xarray</td>\n",
       "    <td style='text-align: left; border: 2px solid #fff;'>0.15.0</td>\n",
       "    <td style='text-align: right; background-color: #ccc; border: 2px solid #fff;'>numpy</td>\n",
       "    <td style='text-align: left; border: 2px solid #fff;'>1.15.4</td>\n",
       "    <td style='text-align: right; background-color: #ccc; border: 2px solid #fff;'>scipy</td>\n",
       "    <td style='text-align: left; border: 2px solid #fff;'>1.4.1</td>\n",
       "  </tr>\n",
       "  <tr>\n",
       "    <td style='text-align: right; background-color: #ccc; border: 2px solid #fff;'>numba</td>\n",
       "    <td style='text-align: left; border: 2px solid #fff;'>0.48.0</td>\n",
       "    <td style='text-align: right; background-color: #ccc; border: 2px solid #fff;'>emg3d</td>\n",
       "    <td style='text-align: left; border: 2px solid #fff;'>0.9.3</td>\n",
       "    <td style='text-align: right; background-color: #ccc; border: 2px solid #fff;'>IPython</td>\n",
       "    <td style='text-align: left; border: 2px solid #fff;'>7.13.0</td>\n",
       "  </tr>\n",
       "  <tr>\n",
       "    <td style='text-align: right; background-color: #ccc; border: 2px solid #fff;'>matplotlib</td>\n",
       "    <td style='text-align: left; border: 2px solid #fff;'>3.1.3</td>\n",
       "    <td style= border: 2px solid #fff;'></td>\n",
       "    <td style= border: 2px solid #fff;'></td>\n",
       "    <td style= border: 2px solid #fff;'></td>\n",
       "    <td style= border: 2px solid #fff;'></td>\n",
       "  </tr>\n",
       "</table>"
      ],
      "text/plain": [
       "\n",
       "--------------------------------------------------------------------------------\n",
       "  Date: Wed Apr 01 14:29:59 2020 CEST\n",
       "\n",
       "                OS : Linux\n",
       "            CPU(s) : 4\n",
       "           Machine : x86_64\n",
       "      Architecture : 64bit\n",
       "               RAM : 15.5 GB\n",
       "       Environment : Jupyter\n",
       "\n",
       "  Python 3.7.6 (default, Jan  8 2020, 19:59:22)  [GCC 7.3.0]\n",
       "\n",
       "            xarray : 0.15.0\n",
       "             numpy : 1.15.4\n",
       "             scipy : 1.4.1\n",
       "             numba : 0.48.0\n",
       "             emg3d : 0.9.3\n",
       "           IPython : 7.13.0\n",
       "        matplotlib : 3.1.3\n",
       "--------------------------------------------------------------------------------"
      ]
     },
     "execution_count": 10,
     "metadata": {},
     "output_type": "execute_result"
    }
   ],
   "source": [
    "emg3d.Report(xr)"
   ]
  }
 ],
 "metadata": {
  "anaconda-cloud": {},
  "kernelspec": {
   "display_name": "Python 3",
   "language": "python",
   "name": "python3"
  },
  "language_info": {
   "codemirror_mode": {
    "name": "ipython",
    "version": 3
   },
   "file_extension": ".py",
   "mimetype": "text/x-python",
   "name": "python",
   "nbconvert_exporter": "python",
   "pygments_lexer": "ipython3",
   "version": "3.7.6"
  },
  "nbpresent": {
   "slides": {
    "2a1825bf-35ff-4370-b129-ba51addc5c69": {
     "id": "2a1825bf-35ff-4370-b129-ba51addc5c69",
     "prev": "3d6a47d5-4fff-46fe-b063-1afce739efbb",
     "regions": {
      "c651f707-58e0-4b88-b861-0c6608fca1d5": {
       "attrs": {
        "height": 0.8,
        "width": 0.8,
        "x": 0.1,
        "y": 0.1
       },
       "content": {
        "cell": "6900d774-2898-4efd-9798-78bc8f08d0da",
        "part": "whole"
       },
       "id": "c651f707-58e0-4b88-b861-0c6608fca1d5"
      }
     }
    },
    "3d6a47d5-4fff-46fe-b063-1afce739efbb": {
     "id": "3d6a47d5-4fff-46fe-b063-1afce739efbb",
     "prev": "aa9c2bcf-e54f-4714-946e-18921616a039",
     "regions": {
      "e461f359-4831-4693-84fe-480f6c1db14a": {
       "attrs": {
        "height": 0.8,
        "width": 0.8,
        "x": 0.1,
        "y": 0.1
       },
       "content": {
        "cell": "1a31a0e1-bcf6-452d-aabb-c48c94a9e85d",
        "part": "whole"
       },
       "id": "e461f359-4831-4693-84fe-480f6c1db14a"
      }
     }
    },
    "54253e19-21cb-4738-94f0-109d6bbb2bde": {
     "id": "54253e19-21cb-4738-94f0-109d6bbb2bde",
     "prev": "5f5302d2-4747-4c5a-a6c3-1d0fc8f7fb66",
     "regions": {
      "1735c9df-b5c2-40d7-b562-b869e4b966cd": {
       "attrs": {
        "height": 0.8,
        "width": 0.8,
        "x": 0.1,
        "y": 0.1
       },
       "content": {
        "cell": "f85d2094-6d09-4627-a0ab-7cab37ed3c9f",
        "part": "whole"
       },
       "id": "1735c9df-b5c2-40d7-b562-b869e4b966cd"
      }
     }
    },
    "5f5302d2-4747-4c5a-a6c3-1d0fc8f7fb66": {
     "id": "5f5302d2-4747-4c5a-a6c3-1d0fc8f7fb66",
     "prev": "fc333044-619d-44bd-8c7f-0a53dd4b220a",
     "regions": {
      "41618366-0a77-4f2d-9d9b-77ed062d6959": {
       "attrs": {
        "height": 0.8,
        "width": 0.8,
        "x": 0.1,
        "y": 0.1
       },
       "content": {
        "cell": "83e23522-1665-45d6-8bc0-869b981a0e66",
        "part": "whole"
       },
       "id": "41618366-0a77-4f2d-9d9b-77ed062d6959"
      }
     }
    },
    "aa9c2bcf-e54f-4714-946e-18921616a039": {
     "id": "aa9c2bcf-e54f-4714-946e-18921616a039",
     "prev": "54253e19-21cb-4738-94f0-109d6bbb2bde",
     "regions": {
      "1b48f280-81c6-4746-8fff-091d4b10b448": {
       "attrs": {
        "height": 0.8,
        "width": 0.8,
        "x": 0.1,
        "y": 0.1
       },
       "content": {
        "cell": "0631a68b-7d4d-4326-abff-8628f2004afc",
        "part": "whole"
       },
       "id": "1b48f280-81c6-4746-8fff-091d4b10b448"
      }
     }
    },
    "b5a49768-441a-449c-bbf3-d2a7febf0235": {
     "id": "b5a49768-441a-449c-bbf3-d2a7febf0235",
     "prev": null,
     "regions": {
      "7ae15b0a-8675-4544-8708-f2e95dda286f": {
       "attrs": {
        "height": 0.8,
        "width": 0.8,
        "x": 0.1,
        "y": 0.1
       },
       "content": {
        "cell": "4cf9c8a2-cf5f-45cd-b5da-0b1c7fe23108",
        "part": "whole"
       },
       "id": "7ae15b0a-8675-4544-8708-f2e95dda286f"
      }
     }
    },
    "bc930404-89e7-4fc9-a1f9-e9edc1f4d1d4": {
     "id": "bc930404-89e7-4fc9-a1f9-e9edc1f4d1d4",
     "prev": "2a1825bf-35ff-4370-b129-ba51addc5c69",
     "regions": {
      "76296bab-9070-4528-b79c-558debc8f675": {
       "attrs": {
        "height": 0.8,
        "width": 0.8,
        "x": 0.1,
        "y": 0.1
       },
       "content": {
        "cell": "3ac01b43-1f53-4902-a857-5a0b0a6ef59b",
        "part": "whole"
       },
       "id": "76296bab-9070-4528-b79c-558debc8f675"
      }
     }
    },
    "fc333044-619d-44bd-8c7f-0a53dd4b220a": {
     "id": "fc333044-619d-44bd-8c7f-0a53dd4b220a",
     "prev": "b5a49768-441a-449c-bbf3-d2a7febf0235",
     "regions": {
      "fea6658a-c555-450d-b33b-0e44fe7b1cf8": {
       "attrs": {
        "height": 0.8,
        "width": 0.8,
        "x": 0.1,
        "y": 0.1
       },
       "content": {
        "cell": "d0a7e487-d7b9-418c-810f-f12d33c88c85",
        "part": "whole"
       },
       "id": "fea6658a-c555-450d-b33b-0e44fe7b1cf8"
      }
     }
    }
   },
   "themes": {}
  }
 },
 "nbformat": 4,
 "nbformat_minor": 1
}
